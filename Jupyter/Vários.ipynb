{
 "cells": [
  {
   "cell_type": "code",
   "execution_count": 3,
   "metadata": {},
   "outputs": [
    {
     "name": "stdout",
     "output_type": "stream",
     "text": [
      "[17, 20, 26, 31, 44, 54, 55, 77, 93]\n"
     ]
    }
   ],
   "source": [
    "def insertion_sort( lista ):\n",
    "  for i in range( 1, len( lista ) ):\n",
    "    chave = lista[i]\n",
    "    k = i\n",
    "    while k > 0 and chave < lista[k - 1]:\n",
    "        lista[k] = lista[k - 1]\n",
    "        k -= 1\n",
    "    lista[k] = chave\n",
    "    \n",
    "alist = [54,26,93,17,77,31,44,55,20]\n",
    "insertion_sort(alist)\n",
    "print(alist)"
   ]
  },
  {
   "cell_type": "code",
   "execution_count": 2,
   "metadata": {},
   "outputs": [
    {
     "name": "stdout",
     "output_type": "stream",
     "text": [
      "[17, 20, 26, 31, 44, 54, 55, 77, 93]\n"
     ]
    }
   ],
   "source": [
    "def bubbleSort(alist):\n",
    "    for passnum in range(len(alist)-1,0,-1):\n",
    "        for i in range(passnum):\n",
    "            if alist[i]>alist[i+1]:\n",
    "                temp = alist[i]\n",
    "                alist[i] = alist[i+1]\n",
    "                alist[i+1] = temp\n",
    "\n",
    "alist = [54,26,93,17,77,31,44,55,20]\n",
    "bubbleSort(alist)\n",
    "print(alist)"
   ]
  },
  {
   "cell_type": "code",
   "execution_count": 4,
   "metadata": {},
   "outputs": [
    {
     "name": "stdout",
     "output_type": "stream",
     "text": [
      "[17, 20, 26, 31, 44, 54, 55, 77, 93]\n"
     ]
    }
   ],
   "source": [
    "def selectionSort(alist):\n",
    "   for fillslot in range(len(alist)-1,0,-1):\n",
    "       positionOfMax=0\n",
    "       for location in range(1,fillslot+1):\n",
    "           if alist[location]>alist[positionOfMax]:\n",
    "               positionOfMax = location\n",
    "\n",
    "       temp = alist[fillslot]\n",
    "       alist[fillslot] = alist[positionOfMax]\n",
    "       alist[positionOfMax] = temp\n",
    "\n",
    "alist = [54,26,93,17,77,31,44,55,20]\n",
    "selectionSort(alist)\n",
    "print(alist)"
   ]
  },
  {
   "cell_type": "code",
   "execution_count": 8,
   "metadata": {},
   "outputs": [
    {
     "ename": "SyntaxError",
     "evalue": "invalid syntax (<ipython-input-8-47b99ae17979>, line 22)",
     "output_type": "error",
     "traceback": [
      "\u001b[0;36m  File \u001b[0;32m\"<ipython-input-8-47b99ae17979>\"\u001b[0;36m, line \u001b[0;32m22\u001b[0m\n\u001b[0;31m    alist = [54,26,93,17,77,31,44,55,20]\u001b[0m\n\u001b[0m        ^\u001b[0m\n\u001b[0;31mSyntaxError\u001b[0m\u001b[0;31m:\u001b[0m invalid syntax\n"
     ]
    }
   ],
   "source": [
    "MAX_CHARS = 28\n",
    "\n",
    "def radix_sort(lista):\n",
    "        tamanho_maximo = max([len(palavra) for palavra in lista])\n",
    "\n",
    "        for pos in range(tamanho_maximo*1, 1, -1):\n",
    "                baldes = [list() for y in range(MAX_CHARS)]\n",
    "                for palavra in lista:\n",
    "                        balde = numero_do_balde(palavra, pos)\n",
    "                        baldes[balde] += [palavra]\n",
    "                lista = sum(baldes, [])\n",
    "\n",
    "        return lista\n",
    "\n",
    "def numero_do_balde(palavra, pos):\n",
    "        if (pos >= len(palavra)): return 0\n",
    "        ch = palavra[pos]\n",
    "        if (ch >= 'A' and ch <= 'Z'): return ord(ch) - ord('A') + 1\n",
    "        if (ch >= 'a' and ch\n",
    "    \n",
    "            \n",
    "alist = [54,26,93,17,77,31,44,55,20]\n",
    "radix_sort(alist)\n",
    "print(alist)"
   ]
  },
  {
   "cell_type": "code",
   "execution_count": 6,
   "metadata": {},
   "outputs": [
    {
     "name": "stdout",
     "output_type": "stream",
     "text": [
      "[17, 20, 26, 31, 44, 54, 55, 77, 93]\n"
     ]
    }
   ],
   "source": [
    "def mergeSort(lista):\n",
    "\n",
    "    if len(lista) > 1:\n",
    "\n",
    "        meio = len(lista)//2\n",
    "        #também é valido: meio = int(len(lista)/2)\n",
    "\n",
    "        listaDaEsquerda = lista[:meio]\n",
    "        listaDaDireita = lista[meio:]\n",
    "\n",
    "        mergeSort(listaDaEsquerda)\n",
    "        mergeSort(listaDaDireita)\n",
    "\n",
    "        i = 0\n",
    "        j = 0\n",
    "        k = 0\n",
    "\n",
    "        while i < len(listaDaEsquerda) and j < len(listaDaDireita):\n",
    "\n",
    "            if listaDaEsquerda[i] < listaDaDireita[j]:\n",
    "                lista[k]=listaDaEsquerda[i]\n",
    "                i += 1\n",
    "            else:\n",
    "                lista[k]=listaDaDireita[j]\n",
    "                j += 1\n",
    "            k += 1\n",
    "\n",
    "        while i < len(listaDaEsquerda):\n",
    "\n",
    "            lista[k]=listaDaEsquerda[i]\n",
    "            i += 1\n",
    "            k += 1\n",
    "\n",
    "        while j < len(listaDaDireita):\n",
    "            lista[k]=listaDaDireita[j]\n",
    "            j += 1\n",
    "            k += 1\n",
    "            \n",
    "alist = [54,26,93,17,77,31,44,55,20]\n",
    "mergeSort(alist)\n",
    "print(alist)"
   ]
  },
  {
   "cell_type": "code",
   "execution_count": 9,
   "metadata": {},
   "outputs": [],
   "source": [
    "def particao(a, ini, fim):\n",
    "    pivo = a[fim-1]\n",
    "    start = ini\n",
    "    end = ini\n",
    "    for i in range(ini,fim):\n",
    "        if a[i] > pivo:\n",
    "            end += 1\n",
    "        else:\n",
    "            end += 1       \n",
    "            start += 1\n",
    "            aux = a[start-1]\n",
    "            a[start-1] = a[i]\n",
    "            a[i] = aux\n",
    "    return start-1\n",
    "    \n",
    "def quickSort(a, ini, fim):\n",
    "    if ini < fim:\n",
    "        pp = randparticao(a, ini, fim)\n",
    "        quickSort(a, ini, pp)\n",
    "        quickSort(a, pp+1,fim)\n",
    "    return a\n",
    "    \n",
    "def randparticao(a,ini,fim):\n",
    "    rand = random.randrange(ini,fim)\n",
    "    aux = a[fim-1]\n",
    "    a[fim-1] = a[rand]\n",
    "    a[rand] = aux\n",
    "    return particao(a,ini,fim)"
   ]
  }
 ],
 "metadata": {
  "kernelspec": {
   "display_name": "Python 3",
   "language": "python",
   "name": "python3"
  },
  "language_info": {
   "codemirror_mode": {
    "name": "ipython",
    "version": 3
   },
   "file_extension": ".py",
   "mimetype": "text/x-python",
   "name": "python",
   "nbconvert_exporter": "python",
   "pygments_lexer": "ipython3",
   "version": "3.6.7"
  }
 },
 "nbformat": 4,
 "nbformat_minor": 2
}
